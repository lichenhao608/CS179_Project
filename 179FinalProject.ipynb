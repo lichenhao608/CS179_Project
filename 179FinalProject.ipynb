{
 "cells": [
  {
   "cell_type": "markdown",
   "metadata": {},
   "source": [
    "# CS 179 Collaborative Filtering Project"
   ]
  },
  {
   "cell_type": "markdown",
   "metadata": {},
   "source": [
    "***\n",
    "***Group Member***: Chenhao Li, Chaoyuan Hsueh, Bowen Lu\n",
    "***"
   ]
  },
  {
   "cell_type": "markdown",
   "metadata": {},
   "source": [
    "## Abstract"
   ]
  },
  {
   "cell_type": "markdown",
   "metadata": {},
   "source": [
    "Collaborative filtering is a technique used by recommander systems, which its usage is to predict the user's taste (rating) on a specific item by collecting preferences or taste information from many other users. There are two major methods for computation in collaborative filtering algorithm: memory based collaborative filtering and model based collaborative filtering.In this project, we are going to ev on both memory based and model based methods. And we are going to discuss the difference of results these two methods yield."
   ]
  },
  {
   "cell_type": "markdown",
   "metadata": {},
   "source": [
    "***\n",
    "\n",
    "## Data\n",
    "\n",
    "The data we use is MovieLens 100k, which contains 100000 movie ratings from 943 users on 1682 movies. For each row of the data file, it contains: the user id, movie id which theuser rates, the rating of the movie, and the time stamp. Each user rates at least 20 movies. We will preprocess the data into two sets: training set and testing set."
   ]
  },
  {
   "cell_type": "code",
   "execution_count": 2,
   "metadata": {},
   "outputs": [],
   "source": [
    "import numpy as np\n",
    "import pandas as pd\n",
    "\n",
    "# The rating data file\n",
    "column_names = ['user_id','item_id','rating','timestamp']\n",
    "df = pd.read_csv('data/u.data', sep='\\t', names=column_names)\n",
    "\n",
    "# 75% data as train_data, 25% as test_data\n",
    "from sklearn.model_selection import train_test_split\n",
    "train_data, test_data = train_test_split(df, test_size=0.25)"
   ]
  },
  {
   "cell_type": "code",
   "execution_count": 4,
   "metadata": {},
   "outputs": [],
   "source": [
    "# We then build training and testing matrix for convenience\n",
    "# Create two user-item matrices, one for training and another for testing\n",
    "train_data_matrix = np.zeros((n_users, n_items))\n",
    "for line in train_data.itertuples():\n",
    "    train_data_matrix[line[1]-1, line[2]-1] = line[3]  \n",
    "test_data_matrix = np.zeros((n_users, n_items))\n",
    "for line in test_data.itertuples():\n",
    "    test_data_matrix[line[1]-1, line[2]-1] = line[3]"
   ]
  },
  {
   "cell_type": "markdown",
   "metadata": {},
   "source": [
    "***\n",
    "## Procedure"
   ]
  },
  {
   "cell_type": "markdown",
   "metadata": {},
   "source": [
    "### a) Memory Based Filtering\n",
    "\n",
    "There are two main approaches for memory-based collaborative filtering: User-item filitering and Item-item filtering\n",
    "\n",
    "User-item:\n",
    " A user-item filtering is using specific user data to provide recommendation. Based on the similarity of ratings for each provided user, the filiter will find the users who are similar to him, and gives them some recomendations of items, as \"the users similar to you are also like.....\"  \n",
    "        \n",
    "Item-item:\n",
    " A Item-Item filtering is using specific item data to find similar taste users. After finding those users, the system will look for other items that these users also like and return them, as \"the users like this item are also like.....\"\n",
    "\n",
    "We need to build two matrices for testing and training:  \n",
    "For User-item CF, observing two users to calculating the similarity between these two users.  \n",
    "For item-item CF, observing all users who using the two items, and then calculat the items similarity."
   ]
  },
  {
   "cell_type": "code",
   "execution_count": 5,
   "metadata": {},
   "outputs": [],
   "source": [
    "from sklearn.metrics.pairwise import pairwise_distances\n",
    "user_similarity = pairwise_distances(train_data_matrix, metric='cosine')\n",
    "item_similarity = pairwise_distances(train_data_matrix.T, metric='cosine')"
   ]
  },
  {
   "cell_type": "markdown",
   "metadata": {},
   "source": [
    "After creating the similarity matrices, we can use the following User-item CF fomula:\n",
    "    <img class=\"aligncenter size-thumbnail img-responsive\" src=\"https://latex.codecogs.com/gif.latex?\\hat{x}_{k,m}&space;=&space;\\bar{x}_{k}&space;&plus;&space;\\frac{\\sum\\limits_{u_a}&space;sim_u(u_k,&space;u_a)&space;(x_{a,m}&space;-&space;\\bar{x_{u_a}})}{\\sum\\limits_{u_a}|sim_u(u_k,&space;u_a)|}\"/>\n"
   ]
  },
  {
   "cell_type": "markdown",
   "metadata": {},
   "source": [
    "This formula emphasizes on the similarity and relativity between the difference of rating for each person. As every user has his/her subjective rating range, poeple may rate movie differently which their gives all movies a higher or lower score. Thus the differences and relative positions of each person's rating are much more important comparing to the absolute values of the movie scores.\n",
    "\n",
    "Because we will do the predictions when we finding the user in Item-item CF, so we won't need to make prediction again to update the user rating."
   ]
  },
  {
   "cell_type": "markdown",
   "metadata": {},
   "source": [
    "Thus, we have this fomula:\n",
    "    <img class=\"aligncenter size-thumbnail img-responsive\" src=\"https://latex.codecogs.com/gif.latex?\\hat{x}_{k,m}&space;=&space;\\frac{\\sum\\limits_{i_b}&space;sim_i(i_m,&space;i_b)&space;(x_{k,b})&space;}{\\sum\\limits_{i_b}|sim_i(i_m,&space;i_b)|}\"/>"
   ]
  },
  {
   "cell_type": "code",
   "execution_count": 19,
   "metadata": {},
   "outputs": [],
   "source": [
    "def predict(ratings, similarity, type='user'):\n",
    "    if type == 'user':\n",
    "        mean_user_rating = ratings.mean(axis=1)\n",
    "        #You use np.newaxis so that mean_user_rating has same format as ratings\n",
    "        ratings_diff = (ratings - mean_user_rating[:, np.newaxis]) \n",
    "        pred = (mean_user_rating[:, np.newaxis] + \n",
    "                similarity.dot(ratings_diff) / np.array([np.abs(similarity).sum(axis=1)]).T)\n",
    "    elif type == 'item':\n",
    "        pred = ratings.dot(similarity) / np.array([np.abs(similarity).sum(axis=1)])     \n",
    "    return pred"
   ]
  },
  {
   "cell_type": "code",
   "execution_count": 7,
   "metadata": {},
   "outputs": [
    {
     "name": "stdout",
     "output_type": "stream",
     "text": [
      "(943, 1682)\n"
     ]
    }
   ],
   "source": [
    "#Both item and user prediction contain the rating preferences for each item per user\n",
    "item_prediction = predict(train_data_matrix, item_similarity, type='item')\n",
    "user_prediction = predict(train_data_matrix, user_similarity, type='user')\n",
    "print(user_prediction.shape)"
   ]
  },
  {
   "cell_type": "markdown",
   "metadata": {},
   "source": [
    "### b) Model Based Filtering\n",
    "\n",
    "There are lots of methods used in model-based collaborative filtering. Here, we are going to explore the method by using singular value decomposition (SVD).  \n",
    "\n",
    "SVD is a matrix factorization technique that is usually used to reduce the number of features of a data set by reduing the space dimensions from N to K. When it is used in the collaborative filtering, it can help us to learn the latent preferences of users and the latent attributes of items from known rating. Latent variables are those not shown in the data. For example, from the dataset we can get information of user id, age, location, gender, movie id, director, actor, language, year, rating. After matrix factorization, the model can learns users' agfe group, such as under 10, 10- 18, 18- 30, etc. For movie feature, it can also learns that decade, director, and actor are most important. However, if looking into the information we have, decade is not a known feature from the dataset."
   ]
  },
  {
   "cell_type": "markdown",
   "metadata": {},
   "source": [
    "SVD can be decribed as for a given $m\\times n$ matrix X, it can be factorized as:\n",
    "$$X = USV^T$$"
   ]
  },
  {
   "cell_type": "markdown",
   "metadata": {},
   "source": [
    "where \n",
    "* U is a $m\\times r$ orthogonal matrix represents the feature vectors corresponding to the users in the hidden feature space.\n",
    "* S is a $r\\times r$ diagonal matrix with non-negative real number represents the singular value of X.\n",
    "* $V^T$ is a $r\\times n$ orthogonal matrix represents the feature vectors corresponding to the items (movies here) in the hidden space"
   ]
  },
  {
   "cell_type": "code",
   "execution_count": 8,
   "metadata": {},
   "outputs": [],
   "source": [
    "from scipy.sparse.linalg import svds\n",
    "\n",
    "k = [1,5,10,20,50]\n",
    "v_pred = []\n",
    "\n",
    "for ik in k:\n",
    "    #get SVD components from train matrix. Choose k.\n",
    "    u, s, vt = svds(train_data_matrix, k = ik)\n",
    "    s_diag_matrix=np.diag(s)\n",
    "    X_pred = np.dot(np.dot(u, s_diag_matrix), vt)\n",
    "    v_pred.append(X_pred)"
   ]
  },
  {
   "cell_type": "markdown",
   "metadata": {},
   "source": [
    "***\n",
    "## Evaluation"
   ]
  },
  {
   "cell_type": "markdown",
   "metadata": {},
   "source": [
    "A lot of methods for evaluation are used, but one of the most popular metric used is *Root Mean Square Error (RMSE)*\n",
    "$$RMSE=\\sqrt{\\frac{1}{N}\\sum (x_i-\\hat{x}_i)^2}$$\n",
    "Since we only want to compare the accuracy based on the ratings in test set, we will filter out all other elements in prediction that are not in testing matrix."
   ]
  },
  {
   "cell_type": "code",
   "execution_count": 9,
   "metadata": {},
   "outputs": [],
   "source": [
    "from sklearn.metrics import mean_squared_error\n",
    "def rmse(prediction, ground_truth):\n",
    "    prediction = prediction[ground_truth.nonzero()].flatten() \n",
    "    ground_truth = ground_truth[ground_truth.nonzero()].flatten()\n",
    "    return np.sqrt(mean_squared_error(prediction, ground_truth))"
   ]
  },
  {
   "cell_type": "code",
   "execution_count": 10,
   "metadata": {},
   "outputs": [
    {
     "name": "stdout",
     "output_type": "stream",
     "text": [
      "Item-based CF RMSE: 3.4478014783179467\n",
      "User-based CF RMSE: 3.1199993115637965\n",
      "Model-based CF RMSE: 2.958812186009235\n"
     ]
    }
   ],
   "source": [
    "#compute RMSE for each filiter method\n",
    "print('Item-based CF RMSE: ' + str(rmse(item_prediction, test_data_matrix)))\n",
    "print('User-based CF RMSE: ' + str(rmse(user_prediction, test_data_matrix)))\n",
    "print('Model-based CF RMSE: ' + str(rmse(X_pred, test_data_matrix)))"
   ]
  },
  {
   "cell_type": "markdown",
   "metadata": {},
   "source": [
    "Moreover, for model based methods, we want to see how different k will influence the result"
   ]
  },
  {
   "cell_type": "code",
   "execution_count": 14,
   "metadata": {},
   "outputs": [
    {
     "data": {
      "image/png": "[encoded data removed]",
      "text/plain": [
       "<Figure size 432x288 with 1 Axes>"
      ]
     },
     "metadata": {
      "needs_background": "light"
     },
     "output_type": "display_data"
    }
   ],
   "source": [
    "import matplotlib.pyplot as plt\n",
    "%matplotlib inline\n",
    "\n",
    "y = [rmse(x, test_data_matrix) for x in v_pred]\n",
    "plt.plot(k,y)\n",
    "plt.xlabel('k')\n",
    "plt.ylabel('RMSE')\n",
    "plt.show()"
   ]
  },
  {
   "cell_type": "markdown",
   "metadata": {},
   "source": [
    "***\n",
    "## Conclusion\n",
    "\n",
    "We can see the prediction from Model-based Collaborative Filtering is better than the two methods in Memory-based algorithms, as Model-based CF has the least RMSE value.In general, Model-based CF involves building a model based on the dataset of ratings.We can use that model to make recommendations without having to use the complete dataset every time.As a result, the Model-based CF approach offers the benefits of both speed and scalability. On the other hand, for Memory-based CF, although it is relativly easy to be implemented, memory-based CF doesn't scale, which it doesn't address well when new user or new item are added to the system. Moreover, memory-based method needs a good similarity evaluation in order to find a good neighbor, and it needs rating as many as possible. Otherwise, it cannot perform well prediction as there is limited number of ratings is known. However, for model based method, we can use latent variables to predict result even though there are some items that are not rated by users.\n",
    "\n",
    "We can see that in the model based method, choosing different k value will yield different results. It is because that we have to consider enough variables to form reasonable model. Too limitd variable will not provide enough information to construct predictions correctly. While there are many variables, some of them are useless which they give incorrect information for our predictions. More precisely, the data we use do not have enough ratings, that users may not rate as many movies as when each of them only rate 20 movies. Even though model based method will use latent variables,  there won't be enough \"useful\" latent variables we can use as we let k to be large."
   ]
  },
  {
   "cell_type": "markdown",
   "metadata": {},
   "source": [
    "***\n",
    "## Acknowledgment\n",
    "\n",
    "We read the paper \"Model-based approach for Collaborative Filtering\" written by Do, Dung Van Nguyen, and Loc Nguyen. And we find a [tutorial](https://github.com/shivang98/Recommendation-Engine) from Shivang Agarwal that relates to some contents described in the paper."
   ]
  }
 ],
 "metadata": {
  "kernelspec": {
   "display_name": "Python 3",
   "language": "python",
   "name": "python3"
  },
  "language_info": {
   "codemirror_mode": {
    "name": "ipython",
    "version": 3
   },
   "file_extension": ".py",
   "mimetype": "text/x-python",
   "name": "python",
   "nbconvert_exporter": "python",
   "pygments_lexer": "ipython3",
   "version": "3.6.7"
  }
 },
 "nbformat": 4,
 "nbformat_minor": 2
}
